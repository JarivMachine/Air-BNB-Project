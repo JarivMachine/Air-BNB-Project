{
 "cells": [
  {
   "cell_type": "markdown",
   "id": "236707bc-0e4b-4fa7-9f86-066fdbca038d",
   "metadata": {},
   "source": [
    "# Problem Statement"
   ]
  },
  {
   "cell_type": "markdown",
   "id": "4ceaecc0-9f66-47a2-b204-0fd16036aafd",
   "metadata": {},
   "source": [
    "### Suppose that you are working as a data analyst at Airbnb. For the past few months, Airbnb has seen a major decline in revenue. Now that the restrictions have started lifting and people have started to travel more, Airbnb wants to make sure that it is fully prepared for this change.\n",
    "\n",
    "### The different leaders at Airbnb want to understand some important insights based on various attributes in the dataset so as to increase the revenue such as -\n",
    "\n",
    "### Which type of hosts to acquire more and where?\n",
    "### The categorisation of customers based on their preferences.\n",
    "### What are the neighbourhoods they need to target?\n",
    "### What is the pricing ranges preferred by customers?\n",
    "### The various kinds of properties that exist w.r.t. customer preferences.\n",
    "### Adjustments in the existing properties to make it more customer-oriented.\n",
    "### What are the most popular localities and properties in New York currently?\n",
    "### How to get unpopular properties more traction? and so on..."
   ]
  },
  {
   "cell_type": "code",
   "execution_count": 1,
   "id": "7ba1397a-854a-4526-ab10-8bfb3c48efa4",
   "metadata": {
    "tags": []
   },
   "outputs": [],
   "source": [
    "import warnings\n",
    "warnings.filterwarnings(\"ignore\")"
   ]
  },
  {
   "cell_type": "code",
   "execution_count": 2,
   "id": "30791436",
   "metadata": {
    "tags": []
   },
   "outputs": [],
   "source": [
    "import pandas as pd\n",
    "import numpy as np\n",
    "import seaborn as sns\n",
    "from matplotlib.pyplot import figure\n",
    "import matplotlib.pyplot as plt"
   ]
  },
  {
   "cell_type": "code",
   "execution_count": 3,
   "id": "8e58495d-aed4-41e0-9eaf-d3f16ec01d76",
   "metadata": {
    "tags": []
   },
   "outputs": [],
   "source": [
    "df = pd.read_csv('E:\\#Upgrad\\#Data Analytics Specialis\\Data Storytelling\\Air BNB Case Study\\AB_NYC_2019.csv')"
   ]
  },
  {
   "cell_type": "code",
   "execution_count": 4,
   "id": "dd5f2355-a43e-4201-8bee-24c168e5e491",
   "metadata": {
    "tags": []
   },
   "outputs": [
    {
     "data": {
      "text/html": [
       "<div>\n",
       "<style scoped>\n",
       "    .dataframe tbody tr th:only-of-type {\n",
       "        vertical-align: middle;\n",
       "    }\n",
       "\n",
       "    .dataframe tbody tr th {\n",
       "        vertical-align: top;\n",
       "    }\n",
       "\n",
       "    .dataframe thead th {\n",
       "        text-align: right;\n",
       "    }\n",
       "</style>\n",
       "<table border=\"1\" class=\"dataframe\">\n",
       "  <thead>\n",
       "    <tr style=\"text-align: right;\">\n",
       "      <th></th>\n",
       "      <th>id</th>\n",
       "      <th>name</th>\n",
       "      <th>host_id</th>\n",
       "      <th>host_name</th>\n",
       "      <th>neighbourhood_group</th>\n",
       "      <th>neighbourhood</th>\n",
       "      <th>latitude</th>\n",
       "      <th>longitude</th>\n",
       "      <th>room_type</th>\n",
       "      <th>price</th>\n",
       "      <th>minimum_nights</th>\n",
       "      <th>number_of_reviews</th>\n",
       "      <th>last_review</th>\n",
       "      <th>reviews_per_month</th>\n",
       "      <th>calculated_host_listings_count</th>\n",
       "      <th>availability_365</th>\n",
       "    </tr>\n",
       "  </thead>\n",
       "  <tbody>\n",
       "    <tr>\n",
       "      <th>0</th>\n",
       "      <td>2539</td>\n",
       "      <td>Clean &amp; quiet apt home by the park</td>\n",
       "      <td>2787</td>\n",
       "      <td>John</td>\n",
       "      <td>Brooklyn</td>\n",
       "      <td>Kensington</td>\n",
       "      <td>40.64749</td>\n",
       "      <td>-73.97237</td>\n",
       "      <td>Private room</td>\n",
       "      <td>149</td>\n",
       "      <td>1</td>\n",
       "      <td>9</td>\n",
       "      <td>19-10-2018</td>\n",
       "      <td>21</td>\n",
       "      <td>6</td>\n",
       "      <td>365</td>\n",
       "    </tr>\n",
       "    <tr>\n",
       "      <th>1</th>\n",
       "      <td>2595</td>\n",
       "      <td>Skylit Midtown Castle</td>\n",
       "      <td>2845</td>\n",
       "      <td>Jennifer</td>\n",
       "      <td>Manhattan</td>\n",
       "      <td>Midtown</td>\n",
       "      <td>40.75362</td>\n",
       "      <td>-73.98377</td>\n",
       "      <td>Entire home/apt</td>\n",
       "      <td>225</td>\n",
       "      <td>1</td>\n",
       "      <td>45</td>\n",
       "      <td>21-05-2019</td>\n",
       "      <td>38</td>\n",
       "      <td>2</td>\n",
       "      <td>355</td>\n",
       "    </tr>\n",
       "    <tr>\n",
       "      <th>2</th>\n",
       "      <td>3647</td>\n",
       "      <td>THE VILLAGE OF HARLEM....NEW YORK !</td>\n",
       "      <td>4632</td>\n",
       "      <td>Elisabeth</td>\n",
       "      <td>Manhattan</td>\n",
       "      <td>Harlem</td>\n",
       "      <td>40.80902</td>\n",
       "      <td>-73.94190</td>\n",
       "      <td>Private room</td>\n",
       "      <td>150</td>\n",
       "      <td>3</td>\n",
       "      <td>0</td>\n",
       "      <td>NaN</td>\n",
       "      <td>0</td>\n",
       "      <td>1</td>\n",
       "      <td>365</td>\n",
       "    </tr>\n",
       "    <tr>\n",
       "      <th>3</th>\n",
       "      <td>3831</td>\n",
       "      <td>Cozy Entire Floor of Brownstone</td>\n",
       "      <td>4869</td>\n",
       "      <td>LisaRoxanne</td>\n",
       "      <td>Brooklyn</td>\n",
       "      <td>Clinton Hill</td>\n",
       "      <td>40.68514</td>\n",
       "      <td>-73.95976</td>\n",
       "      <td>Entire home/apt</td>\n",
       "      <td>89</td>\n",
       "      <td>1</td>\n",
       "      <td>270</td>\n",
       "      <td>5/7/2019</td>\n",
       "      <td>464</td>\n",
       "      <td>1</td>\n",
       "      <td>194</td>\n",
       "    </tr>\n",
       "    <tr>\n",
       "      <th>4</th>\n",
       "      <td>5022</td>\n",
       "      <td>Entire Apt: Spacious Studio/Loft by central park</td>\n",
       "      <td>7192</td>\n",
       "      <td>Laura</td>\n",
       "      <td>Manhattan</td>\n",
       "      <td>East Harlem</td>\n",
       "      <td>40.79851</td>\n",
       "      <td>-73.94399</td>\n",
       "      <td>Entire home/apt</td>\n",
       "      <td>80</td>\n",
       "      <td>10</td>\n",
       "      <td>9</td>\n",
       "      <td>19-11-2018</td>\n",
       "      <td>10</td>\n",
       "      <td>1</td>\n",
       "      <td>0</td>\n",
       "    </tr>\n",
       "  </tbody>\n",
       "</table>\n",
       "</div>"
      ],
      "text/plain": [
       "     id                                              name  host_id  \\\n",
       "0  2539                Clean & quiet apt home by the park     2787   \n",
       "1  2595                             Skylit Midtown Castle     2845   \n",
       "2  3647               THE VILLAGE OF HARLEM....NEW YORK !     4632   \n",
       "3  3831                   Cozy Entire Floor of Brownstone     4869   \n",
       "4  5022  Entire Apt: Spacious Studio/Loft by central park     7192   \n",
       "\n",
       "     host_name neighbourhood_group neighbourhood  latitude  longitude  \\\n",
       "0         John            Brooklyn    Kensington  40.64749  -73.97237   \n",
       "1     Jennifer           Manhattan       Midtown  40.75362  -73.98377   \n",
       "2    Elisabeth           Manhattan        Harlem  40.80902  -73.94190   \n",
       "3  LisaRoxanne            Brooklyn  Clinton Hill  40.68514  -73.95976   \n",
       "4        Laura           Manhattan   East Harlem  40.79851  -73.94399   \n",
       "\n",
       "         room_type  price  minimum_nights  number_of_reviews last_review  \\\n",
       "0     Private room    149               1                  9  19-10-2018   \n",
       "1  Entire home/apt    225               1                 45  21-05-2019   \n",
       "2     Private room    150               3                  0         NaN   \n",
       "3  Entire home/apt     89               1                270    5/7/2019   \n",
       "4  Entire home/apt     80              10                  9  19-11-2018   \n",
       "\n",
       "   reviews_per_month  calculated_host_listings_count  availability_365  \n",
       "0                 21                               6               365  \n",
       "1                 38                               2               355  \n",
       "2                  0                               1               365  \n",
       "3                464                               1               194  \n",
       "4                 10                               1                 0  "
      ]
     },
     "execution_count": 4,
     "metadata": {},
     "output_type": "execute_result"
    }
   ],
   "source": [
    "df.head()"
   ]
  },
  {
   "cell_type": "code",
   "execution_count": 5,
   "id": "a8d3aed1-f6d1-426d-983e-4a7cd8614427",
   "metadata": {
    "tags": []
   },
   "outputs": [
    {
     "data": {
      "text/plain": [
       "(48895, 16)"
      ]
     },
     "execution_count": 5,
     "metadata": {},
     "output_type": "execute_result"
    }
   ],
   "source": [
    "df.shape"
   ]
  },
  {
   "cell_type": "code",
   "execution_count": 6,
   "id": "d8732c51-f8b2-4859-82e0-4e7f72a78dd9",
   "metadata": {
    "tags": []
   },
   "outputs": [
    {
     "data": {
      "text/plain": [
       "id                                    0\n",
       "name                                 16\n",
       "host_id                               0\n",
       "host_name                            21\n",
       "neighbourhood_group                   0\n",
       "neighbourhood                         0\n",
       "latitude                              0\n",
       "longitude                             0\n",
       "room_type                             0\n",
       "price                                 0\n",
       "minimum_nights                        0\n",
       "number_of_reviews                     0\n",
       "last_review                       10052\n",
       "reviews_per_month                     0\n",
       "calculated_host_listings_count        0\n",
       "availability_365                      0\n",
       "dtype: int64"
      ]
     },
     "execution_count": 6,
     "metadata": {},
     "output_type": "execute_result"
    }
   ],
   "source": [
    "df.isnull().sum()"
   ]
  },
  {
   "cell_type": "code",
   "execution_count": 7,
   "id": "2ba9d011-6d0a-4a2d-94a0-49caacba2ec4",
   "metadata": {
    "tags": []
   },
   "outputs": [
    {
     "name": "stdout",
     "output_type": "stream",
     "text": [
      "<class 'pandas.core.frame.DataFrame'>\n",
      "RangeIndex: 48895 entries, 0 to 48894\n",
      "Data columns (total 16 columns):\n",
      " #   Column                          Non-Null Count  Dtype  \n",
      "---  ------                          --------------  -----  \n",
      " 0   id                              48895 non-null  int64  \n",
      " 1   name                            48879 non-null  object \n",
      " 2   host_id                         48895 non-null  int64  \n",
      " 3   host_name                       48874 non-null  object \n",
      " 4   neighbourhood_group             48895 non-null  object \n",
      " 5   neighbourhood                   48895 non-null  object \n",
      " 6   latitude                        48895 non-null  float64\n",
      " 7   longitude                       48895 non-null  float64\n",
      " 8   room_type                       48895 non-null  object \n",
      " 9   price                           48895 non-null  int64  \n",
      " 10  minimum_nights                  48895 non-null  int64  \n",
      " 11  number_of_reviews               48895 non-null  int64  \n",
      " 12  last_review                     38843 non-null  object \n",
      " 13  reviews_per_month               48895 non-null  int64  \n",
      " 14  calculated_host_listings_count  48895 non-null  int64  \n",
      " 15  availability_365                48895 non-null  int64  \n",
      "dtypes: float64(2), int64(8), object(6)\n",
      "memory usage: 6.0+ MB\n"
     ]
    }
   ],
   "source": [
    "df.info()"
   ]
  },
  {
   "cell_type": "code",
   "execution_count": null,
   "id": "e792525a-308a-4109-884e-8536aad99a12",
   "metadata": {
    "tags": []
   },
   "outputs": [],
   "source": []
  },
  {
   "cell_type": "markdown",
   "id": "f6cf1996-c12f-4be5-a2f8-50610b45d848",
   "metadata": {
    "tags": []
   },
   "source": [
    "### Name Column"
   ]
  },
  {
   "cell_type": "code",
   "execution_count": null,
   "id": "a631702b-cd8a-4c82-bcb5-d6ef869c605d",
   "metadata": {},
   "outputs": [],
   "source": [
    "# We Observ the name column has missing values. Imputing missing names as not specified. "
   ]
  },
  {
   "cell_type": "code",
   "execution_count": 11,
   "id": "1d3ccf18-b292-4895-9c02-0396c7ad3d93",
   "metadata": {
    "tags": []
   },
   "outputs": [
    {
     "data": {
      "text/html": [
       "<div>\n",
       "<style scoped>\n",
       "    .dataframe tbody tr th:only-of-type {\n",
       "        vertical-align: middle;\n",
       "    }\n",
       "\n",
       "    .dataframe tbody tr th {\n",
       "        vertical-align: top;\n",
       "    }\n",
       "\n",
       "    .dataframe thead th {\n",
       "        text-align: right;\n",
       "    }\n",
       "</style>\n",
       "<table border=\"1\" class=\"dataframe\">\n",
       "  <thead>\n",
       "    <tr style=\"text-align: right;\">\n",
       "      <th></th>\n",
       "      <th>id</th>\n",
       "      <th>name</th>\n",
       "      <th>host_id</th>\n",
       "      <th>host_name</th>\n",
       "      <th>neighbourhood_group</th>\n",
       "      <th>neighbourhood</th>\n",
       "      <th>latitude</th>\n",
       "      <th>longitude</th>\n",
       "      <th>room_type</th>\n",
       "      <th>price</th>\n",
       "      <th>minimum_nights</th>\n",
       "      <th>number_of_reviews</th>\n",
       "      <th>last_review</th>\n",
       "      <th>reviews_per_month</th>\n",
       "      <th>calculated_host_listings_count</th>\n",
       "      <th>availability_365</th>\n",
       "    </tr>\n",
       "  </thead>\n",
       "  <tbody>\n",
       "  </tbody>\n",
       "</table>\n",
       "</div>"
      ],
      "text/plain": [
       "Empty DataFrame\n",
       "Columns: [id, name, host_id, host_name, neighbourhood_group, neighbourhood, latitude, longitude, room_type, price, minimum_nights, number_of_reviews, last_review, reviews_per_month, calculated_host_listings_count, availability_365]\n",
       "Index: []"
      ]
     },
     "execution_count": 11,
     "metadata": {},
     "output_type": "execute_result"
    }
   ],
   "source": [
    "df[df[\"name\"].isnull()]"
   ]
  },
  {
   "cell_type": "code",
   "execution_count": 8,
   "id": "a6e7757f-2411-4b5f-ba79-3a54e60ba7a0",
   "metadata": {
    "tags": []
   },
   "outputs": [],
   "source": [
    "df['name'] = df['name'].fillna('No_Specified')"
   ]
  },
  {
   "cell_type": "code",
   "execution_count": 9,
   "id": "443a259d-1ca4-45a7-8cf5-b721016ab35c",
   "metadata": {
    "tags": []
   },
   "outputs": [
    {
     "data": {
      "text/plain": [
       "0"
      ]
     },
     "execution_count": 9,
     "metadata": {},
     "output_type": "execute_result"
    }
   ],
   "source": [
    "df.name.isnull().sum()"
   ]
  },
  {
   "cell_type": "code",
   "execution_count": 12,
   "id": "e9a4034f-d378-4033-b0d5-fee3a57f37a5",
   "metadata": {
    "tags": []
   },
   "outputs": [
    {
     "data": {
      "text/plain": [
       "name\n",
       "Hillside Hotel                                        18\n",
       "Home away from home                                   17\n",
       "No Name                                               16\n",
       "New york Multi-unit building                          16\n",
       "Brooklyn Apartment                                    12\n",
       "                                                      ..\n",
       "Brownstone garden 2 bedroom duplex, Central Park       1\n",
       "Bright Cozy Private Room near Columbia Univ            1\n",
       "1 bdrm/large studio in a great location                1\n",
       "Cozy Private Room #2 Two Beds Near JFK and J Train     1\n",
       "Trendy duplex in the very heart of Hell's Kitchen      1\n",
       "Name: count, Length: 47897, dtype: int64"
      ]
     },
     "execution_count": 12,
     "metadata": {},
     "output_type": "execute_result"
    }
   ],
   "source": [
    "df.name.value_counts(dropna=False)"
   ]
  },
  {
   "cell_type": "code",
   "execution_count": null,
   "id": "b302bf2b-4677-465a-b2e6-e3901d29e94a",
   "metadata": {},
   "outputs": [],
   "source": []
  },
  {
   "cell_type": "markdown",
   "id": "645d9f86-1444-4cc7-ab4c-49ad490c4542",
   "metadata": {
    "tags": []
   },
   "source": [
    "### Host_Name Column"
   ]
  },
  {
   "cell_type": "code",
   "execution_count": 15,
   "id": "202b99e9-756d-4b22-bfb4-904514081472",
   "metadata": {
    "tags": []
   },
   "outputs": [
    {
     "data": {
      "text/plain": [
       "21"
      ]
     },
     "execution_count": 15,
     "metadata": {},
     "output_type": "execute_result"
    }
   ],
   "source": [
    "df.host_name.isnull().sum()"
   ]
  },
  {
   "cell_type": "code",
   "execution_count": 16,
   "id": "eb43c354-0292-41fb-a7ce-a24ed5735c95",
   "metadata": {
    "tags": []
   },
   "outputs": [],
   "source": [
    "# We observe there missing Host_name in the column. Imputing the missing value as Not_Specified."
   ]
  },
  {
   "cell_type": "code",
   "execution_count": 17,
   "id": "e0d837d2-030a-4afd-a06e-f832ab32d5ee",
   "metadata": {
    "tags": []
   },
   "outputs": [],
   "source": [
    "df.host_name = df.host_name.fillna('Not_Specified')"
   ]
  },
  {
   "cell_type": "code",
   "execution_count": 18,
   "id": "0e1aa309-a050-4c48-982a-e06a95ec26a0",
   "metadata": {
    "tags": []
   },
   "outputs": [
    {
     "data": {
      "text/plain": [
       "0"
      ]
     },
     "execution_count": 18,
     "metadata": {},
     "output_type": "execute_result"
    }
   ],
   "source": [
    "df.host_name.isnull().sum()"
   ]
  },
  {
   "cell_type": "code",
   "execution_count": null,
   "id": "ae9cbebd-58f9-44a6-9ee1-f3b93aedba76",
   "metadata": {},
   "outputs": [],
   "source": []
  },
  {
   "cell_type": "markdown",
   "id": "d8fc9b6b-6282-4d44-9c35-66230884a2ab",
   "metadata": {},
   "source": [
    "### neighbourhood_group Column"
   ]
  },
  {
   "cell_type": "code",
   "execution_count": 19,
   "id": "c30cc010-eb3c-4b07-973d-8895dcfb5b69",
   "metadata": {
    "tags": []
   },
   "outputs": [
    {
     "data": {
      "text/plain": [
       "neighbourhood_group\n",
       "Manhattan        21661\n",
       "Brooklyn         20104\n",
       "Queens            5666\n",
       "Bronx             1091\n",
       "Staten Island      373\n",
       "Name: count, dtype: int64"
      ]
     },
     "execution_count": 19,
     "metadata": {},
     "output_type": "execute_result"
    }
   ],
   "source": [
    "df.neighbourhood_group.value_counts(dropna=False)"
   ]
  },
  {
   "cell_type": "code",
   "execution_count": 20,
   "id": "48fc1b16-90dd-4751-9df2-5a2056defc4f",
   "metadata": {
    "tags": []
   },
   "outputs": [
    {
     "data": {
      "text/plain": [
       "0"
      ]
     },
     "execution_count": 20,
     "metadata": {},
     "output_type": "execute_result"
    }
   ],
   "source": [
    "df.neighbourhood_group.isnull().sum()"
   ]
  },
  {
   "cell_type": "code",
   "execution_count": 23,
   "id": "643b26de-c684-43e5-8f19-80f709e363b9",
   "metadata": {
    "tags": []
   },
   "outputs": [
    {
     "data": {
      "text/plain": [
       "5"
      ]
     },
     "execution_count": 23,
     "metadata": {},
     "output_type": "execute_result"
    }
   ],
   "source": [
    "len(df[\"neighbourhood_group\"].unique())"
   ]
  },
  {
   "cell_type": "markdown",
   "id": "401cc53c-6b50-4b37-b06b-1f252b610375",
   "metadata": {},
   "source": [
    "### neighbourhood column"
   ]
  },
  {
   "cell_type": "code",
   "execution_count": 21,
   "id": "fd1eb48e-977e-498b-9cd9-90049b09dfe9",
   "metadata": {
    "tags": []
   },
   "outputs": [
    {
     "data": {
      "text/plain": [
       "neighbourhood\n",
       "Williamsburg          3920\n",
       "Bedford-Stuyvesant    3714\n",
       "Harlem                2658\n",
       "Bushwick              2465\n",
       "Upper West Side       1971\n",
       "                      ... \n",
       "Fort Wadsworth           1\n",
       "Richmondtown             1\n",
       "New Dorp                 1\n",
       "Rossville                1\n",
       "Willowbrook              1\n",
       "Name: count, Length: 221, dtype: int64"
      ]
     },
     "execution_count": 21,
     "metadata": {},
     "output_type": "execute_result"
    }
   ],
   "source": [
    "df.neighbourhood.value_counts(dropna=False)"
   ]
  },
  {
   "cell_type": "code",
   "execution_count": 22,
   "id": "92a9ae3e-49c3-4195-a40c-8f7fde36af58",
   "metadata": {
    "tags": []
   },
   "outputs": [
    {
     "data": {
      "text/plain": [
       "221"
      ]
     },
     "execution_count": 22,
     "metadata": {},
     "output_type": "execute_result"
    }
   ],
   "source": [
    "len(df[\"neighbourhood\"].unique())"
   ]
  },
  {
   "cell_type": "code",
   "execution_count": 24,
   "id": "da526552-6342-43e7-8644-b8f5b26ffc5c",
   "metadata": {
    "tags": []
   },
   "outputs": [
    {
     "data": {
      "text/plain": [
       "4       8\n",
       "7       8\n",
       "2       7\n",
       "8       7\n",
       "11      6\n",
       "       ..\n",
       "744     1\n",
       "29      1\n",
       "237     1\n",
       "1853    1\n",
       "235     1\n",
       "Name: count, Length: 124, dtype: int64"
      ]
     },
     "execution_count": 24,
     "metadata": {},
     "output_type": "execute_result"
    }
   ],
   "source": [
    "df.groupby(['neighbourhood']).size().value_counts()"
   ]
  },
  {
   "cell_type": "code",
   "execution_count": 25,
   "id": "2725cc4f-5c9b-4259-956d-15c760cde0d6",
   "metadata": {
    "tags": []
   },
   "outputs": [
    {
     "data": {
      "text/plain": [
       "neighbourhood       price\n",
       "Bushwick            50       201\n",
       "Bedford-Stuyvesant  50       183\n",
       "                    60       181\n",
       "Williamsburg        100      174\n",
       "                    60       166\n",
       "                            ... \n",
       "Greenwich Village   1100       1\n",
       "                    1099       1\n",
       "                    999        1\n",
       "                    800        1\n",
       "Woodside            500        1\n",
       "Name: count, Length: 11163, dtype: int64"
      ]
     },
     "execution_count": 25,
     "metadata": {},
     "output_type": "execute_result"
    }
   ],
   "source": [
    "df[['neighbourhood','price']].value_counts(dropna=False)"
   ]
  },
  {
   "cell_type": "code",
   "execution_count": 26,
   "id": "86d2c18b-f69f-4414-ad1e-e3012c226c83",
   "metadata": {
    "tags": []
   },
   "outputs": [
    {
     "data": {
      "text/plain": [
       "neighbourhood\n",
       "Allerton            29\n",
       "Arden Heights        4\n",
       "Arrochar            17\n",
       "Arverne             42\n",
       "Astoria            135\n",
       "                  ... \n",
       "Windsor Terrace     73\n",
       "Woodhaven           41\n",
       "Woodlawn            10\n",
       "Woodrow              1\n",
       "Woodside            78\n",
       "Name: price, Length: 221, dtype: int64"
      ]
     },
     "execution_count": 26,
     "metadata": {},
     "output_type": "execute_result"
    }
   ],
   "source": [
    "df.groupby('neighbourhood')['price'].nunique()"
   ]
  },
  {
   "cell_type": "code",
   "execution_count": null,
   "id": "81e0159c-5f8f-4ff6-a0e4-f31fd9eda28c",
   "metadata": {},
   "outputs": [],
   "source": []
  },
  {
   "cell_type": "markdown",
   "id": "d3cc6d2c-5b45-4f43-8d83-8d728c9cd96a",
   "metadata": {},
   "source": [
    "### room_type column"
   ]
  },
  {
   "cell_type": "code",
   "execution_count": 27,
   "id": "fc3e90d4-8ef5-4369-807d-595d304520d5",
   "metadata": {
    "tags": []
   },
   "outputs": [
    {
     "data": {
      "text/plain": [
       "room_type\n",
       "Entire home/apt    25409\n",
       "Private room       22326\n",
       "Shared room         1160\n",
       "Name: count, dtype: int64"
      ]
     },
     "execution_count": 27,
     "metadata": {},
     "output_type": "execute_result"
    }
   ],
   "source": [
    "df.room_type.value_counts(dropna=False)"
   ]
  },
  {
   "cell_type": "code",
   "execution_count": null,
   "id": "9605b777-46ed-4d11-87c9-ab0832993437",
   "metadata": {},
   "outputs": [],
   "source": []
  },
  {
   "cell_type": "markdown",
   "id": "902d7e46-2d1d-4af7-b4e6-b7dc787172c0",
   "metadata": {},
   "source": [
    "### Price Column"
   ]
  },
  {
   "cell_type": "code",
   "execution_count": 28,
   "id": "ac906078-dbbf-4dd2-8420-c6d649822281",
   "metadata": {
    "tags": []
   },
   "outputs": [
    {
     "data": {
      "image/png": "[encoded data removed]",
      "text/plain": [
       "<Figure size 1000x600 with 1 Axes>"
      ]
     },
     "metadata": {},
     "output_type": "display_data"
    }
   ],
   "source": [
    "# Distribution of price\n",
    "plt.figure(figsize=(10,6))\n",
    "sns.distplot(df['price'])\n",
    "plt.title('Distribution of Price')\n",
    "plt.xlabel('Price')\n",
    "plt.ylabel('Number of Customers')\n",
    "plt.show()"
   ]
  },
  {
   "cell_type": "code",
   "execution_count": 29,
   "id": "9f8f3020-af21-414b-85d7-8f2c85f4622c",
   "metadata": {
    "tags": []
   },
   "outputs": [
    {
     "data": {
      "text/plain": [
       "<function matplotlib.pyplot.show(close=None, block=None)>"
      ]
     },
     "execution_count": 29,
     "metadata": {},
     "output_type": "execute_result"
    },
    {
     "data": {
      "image/png": "[encoded data removed]",
      "text/plain": [
       "<Figure size 640x480 with 1 Axes>"
      ]
     },
     "metadata": {},
     "output_type": "display_data"
    }
   ],
   "source": [
    "plt.boxplot(df.price)\n",
    "plt.show"
   ]
  },
  {
   "cell_type": "markdown",
   "id": "dfc27772-1d57-43f4-8476-37305e8fc8f1",
   "metadata": {},
   "source": [
    "## We can observe in the above Histogram chart and box plot. There are outliers in the Price column which is affecting the statiistical calculation. most of the customers are opting for service winthin price range of 0 to 2000. We can drop the rows above 2000. "
   ]
  },
  {
   "cell_type": "code",
   "execution_count": 30,
   "id": "9c537d69-fa30-478d-8599-5802b256d0c3",
   "metadata": {
    "tags": []
   },
   "outputs": [],
   "source": [
    "# Droping rows\n",
    "df = df[df['price'] <= 2000]"
   ]
  },
  {
   "cell_type": "code",
   "execution_count": 32,
   "id": "7256fb8a-29a2-43a7-9e80-45cf56cf7728",
   "metadata": {
    "tags": []
   },
   "outputs": [
    {
     "data": {
      "text/plain": [
       "(48809, 16)"
      ]
     },
     "execution_count": 32,
     "metadata": {},
     "output_type": "execute_result"
    }
   ],
   "source": [
    "df.shape"
   ]
  },
  {
   "cell_type": "code",
   "execution_count": 31,
   "id": "7c7885d2-c0d8-4f2c-b3cc-68eb3faedf1c",
   "metadata": {
    "tags": []
   },
   "outputs": [
    {
     "data": {
      "image/png": "[encoded data removed]",
      "text/plain": [
       "<Figure size 1000x600 with 1 Axes>"
      ]
     },
     "metadata": {},
     "output_type": "display_data"
    }
   ],
   "source": [
    "# Distribution of price\n",
    "plt.figure(figsize=(10,6))\n",
    "sns.distplot(df['price'])\n",
    "plt.title('Distribution of Price')\n",
    "plt.xlabel('Price')\n",
    "plt.ylabel('Number of Customers')\n",
    "plt.show()"
   ]
  },
  {
   "cell_type": "code",
   "execution_count": 33,
   "id": "a1ea254b-c586-4da1-8734-f78e0f31d334",
   "metadata": {
    "tags": []
   },
   "outputs": [],
   "source": [
    "# We can further romve more rows for better visuals.\n",
    "df = df[df['price'] <= 1000]"
   ]
  },
  {
   "cell_type": "code",
   "execution_count": 34,
   "id": "8d455ed5-b8f8-4c9d-9e8f-9976e16496f3",
   "metadata": {
    "tags": []
   },
   "outputs": [
    {
     "data": {
      "image/png": "[encoded data removed]",
      "text/plain": [
       "<Figure size 1000x600 with 1 Axes>"
      ]
     },
     "metadata": {},
     "output_type": "display_data"
    }
   ],
   "source": [
    "# Distribution of price\n",
    "plt.figure(figsize=(10,6))\n",
    "sns.distplot(df['price'])\n",
    "plt.title('Distribution of Price')\n",
    "plt.xlabel('Price')\n",
    "plt.ylabel('Number of Customers')\n",
    "plt.show()"
   ]
  },
  {
   "cell_type": "code",
   "execution_count": 35,
   "id": "6690f91c-0c5a-4c6b-bf6d-1f617c02424a",
   "metadata": {
    "tags": []
   },
   "outputs": [
    {
     "data": {
      "text/plain": [
       "<function matplotlib.pyplot.show(close=None, block=None)>"
      ]
     },
     "execution_count": 35,
     "metadata": {},
     "output_type": "execute_result"
    },
    {
     "data": {
      "image/png": "[encoded data removed]",
      "text/plain": [
       "<Figure size 640x480 with 1 Axes>"
      ]
     },
     "metadata": {},
     "output_type": "display_data"
    }
   ],
   "source": [
    "plt.boxplot(df.price)\n",
    "plt.show"
   ]
  },
  {
   "cell_type": "code",
   "execution_count": 37,
   "id": "2a89de48-b8fb-4998-a834-994836e02a43",
   "metadata": {
    "tags": []
   },
   "outputs": [
    {
     "data": {
      "text/plain": [
       "0.25      69.0\n",
       "0.50     105.0\n",
       "0.75     175.0\n",
       "1.00    1000.0\n",
       "Name: price, dtype: float64"
      ]
     },
     "execution_count": 37,
     "metadata": {},
     "output_type": "execute_result"
    }
   ],
   "source": [
    "df['price'].quantile([0.25,0.50,0.75,1])"
   ]
  },
  {
   "cell_type": "code",
   "execution_count": null,
   "id": "1ee68cdd-97f7-47e9-87a8-44b27787f5f1",
   "metadata": {},
   "outputs": [],
   "source": []
  },
  {
   "cell_type": "markdown",
   "id": "ec9650ff-c152-4cb0-a03c-4b97626f8f26",
   "metadata": {},
   "source": [
    "### minimum_nights column"
   ]
  },
  {
   "cell_type": "code",
   "execution_count": 38,
   "id": "8925e4ad-b340-40ad-8b06-27bf79a680f1",
   "metadata": {
    "tags": []
   },
   "outputs": [
    {
     "data": {
      "text/plain": [
       "minimum_nights\n",
       "1      12620\n",
       "2      11670\n",
       "3       7978\n",
       "30      3732\n",
       "4       3296\n",
       "       ...  \n",
       "186        1\n",
       "366        1\n",
       "68         1\n",
       "99         1\n",
       "36         1\n",
       "Name: count, Length: 108, dtype: int64"
      ]
     },
     "execution_count": 38,
     "metadata": {},
     "output_type": "execute_result"
    }
   ],
   "source": [
    "df.minimum_nights.value_counts(dropna=False)"
   ]
  },
  {
   "cell_type": "code",
   "execution_count": 40,
   "id": "1cecc53d-ad71-4872-8493-4385f8c9145f",
   "metadata": {
    "tags": []
   },
   "outputs": [
    {
     "data": {
      "text/plain": [
       "neighbourhood\n",
       "Allerton            6\n",
       "Arden Heights       4\n",
       "Arrochar            5\n",
       "Arverne             4\n",
       "Astoria            29\n",
       "                   ..\n",
       "Windsor Terrace    16\n",
       "Woodhaven           7\n",
       "Woodlawn            2\n",
       "Woodrow             1\n",
       "Woodside           13\n",
       "Name: minimum_nights, Length: 221, dtype: int64"
      ]
     },
     "execution_count": 40,
     "metadata": {},
     "output_type": "execute_result"
    }
   ],
   "source": [
    "df.groupby('neighbourhood')['minimum_nights'].nunique()"
   ]
  },
  {
   "cell_type": "code",
   "execution_count": 42,
   "id": "3a3c8d3c-e92a-4ab7-b53f-4dae2f677454",
   "metadata": {
    "tags": []
   },
   "outputs": [
    {
     "data": {
      "text/plain": [
       "room_type\n",
       "Entire home/apt    91\n",
       "Private room       71\n",
       "Shared room        29\n",
       "Name: minimum_nights, dtype: int64"
      ]
     },
     "execution_count": 42,
     "metadata": {},
     "output_type": "execute_result"
    }
   ],
   "source": [
    "df.groupby('room_type')['minimum_nights'].nunique()"
   ]
  },
  {
   "cell_type": "code",
   "execution_count": null,
   "id": "79861436-e2a3-412f-b01f-39b68a60866c",
   "metadata": {},
   "outputs": [],
   "source": []
  },
  {
   "cell_type": "markdown",
   "id": "7a830492-f0a1-40e4-8bdc-ce5e209cbb32",
   "metadata": {},
   "source": [
    "### number_of_reviews column"
   ]
  },
  {
   "cell_type": "code",
   "execution_count": 44,
   "id": "d8cc7b14-796d-4dd6-a748-18f59fd3a1b1",
   "metadata": {
    "tags": []
   },
   "outputs": [
    {
     "data": {
      "text/plain": [
       "number_of_reviews\n",
       "0      9920\n",
       "1      5223\n",
       "2      3452\n",
       "3      2514\n",
       "4      1987\n",
       "       ... \n",
       "313       1\n",
       "540       1\n",
       "480       1\n",
       "326       1\n",
       "341       1\n",
       "Name: count, Length: 394, dtype: int64"
      ]
     },
     "execution_count": 44,
     "metadata": {},
     "output_type": "execute_result"
    }
   ],
   "source": [
    "df.number_of_reviews.value_counts(dropna=False)"
   ]
  },
  {
   "cell_type": "code",
   "execution_count": 80,
   "id": "83fe6d3d-b90f-494c-b350-118eb33c29bd",
   "metadata": {
    "tags": []
   },
   "outputs": [
    {
     "data": {
      "image/png": "[encoded data removed]",
      "text/plain": [
       "<Figure size 1000x600 with 1 Axes>"
      ]
     },
     "metadata": {},
     "output_type": "display_data"
    }
   ],
   "source": [
    "# Distribution of price\n",
    "plt.figure(figsize=(10,6))\n",
    "sns.distplot(df['number_of_reviews'])\n",
    "plt.title('Distribution of number_of_reviews')\n",
    "plt.xlabel('number_of_reviews')\n",
    "plt.ylabel('Y-Axis')\n",
    "plt.show()"
   ]
  },
  {
   "cell_type": "code",
   "execution_count": null,
   "id": "73cac577-cff0-423d-9d62-19aec1ab4074",
   "metadata": {},
   "outputs": [],
   "source": []
  },
  {
   "cell_type": "markdown",
   "id": "a3595d8d-77fe-4cfb-8497-13a67c9acf6f",
   "metadata": {},
   "source": [
    "### last_review column"
   ]
  },
  {
   "cell_type": "code",
   "execution_count": 47,
   "id": "0f51390c-d498-4348-a4c1-1921646be752",
   "metadata": {
    "tags": []
   },
   "outputs": [
    {
     "data": {
      "text/plain": [
       "last_review\n",
       "NaN           9920\n",
       "23-06-2019    1412\n",
       "1/7/2019      1356\n",
       "30-06-2019    1337\n",
       "24-06-2019     872\n",
       "              ... \n",
       "13-06-2014       1\n",
       "22-04-2015       1\n",
       "1/5/2015         1\n",
       "15-07-2014       1\n",
       "29-03-2018       1\n",
       "Name: count, Length: 1763, dtype: int64"
      ]
     },
     "execution_count": 47,
     "metadata": {},
     "output_type": "execute_result"
    }
   ],
   "source": [
    "df.last_review.value_counts(dropna=False)"
   ]
  },
  {
   "cell_type": "code",
   "execution_count": 48,
   "id": "d92c80a9-e795-4e7a-b2b4-3849f5f2836d",
   "metadata": {
    "tags": []
   },
   "outputs": [
    {
     "data": {
      "text/plain": [
       "9920"
      ]
     },
     "execution_count": 48,
     "metadata": {},
     "output_type": "execute_result"
    }
   ],
   "source": [
    "df.last_review.isnull().sum()"
   ]
  },
  {
   "cell_type": "code",
   "execution_count": 49,
   "id": "2cf5ebe4-a1e9-416e-bf8e-c1b1e9792df6",
   "metadata": {
    "tags": []
   },
   "outputs": [
    {
     "data": {
      "text/plain": [
       "0     19-10-2018\n",
       "1     21-05-2019\n",
       "2            NaN\n",
       "3       5/7/2019\n",
       "4     19-11-2018\n",
       "5     22-06-2019\n",
       "6      5/10/2017\n",
       "7     24-06-2019\n",
       "8     21-07-2017\n",
       "9       9/6/2019\n",
       "10    22-06-2019\n",
       "11    23-06-2019\n",
       "12    24-06-2019\n",
       "13      5/7/2019\n",
       "14    31-10-2018\n",
       "15    29-06-2019\n",
       "16    28-06-2019\n",
       "17      1/7/2019\n",
       "18    22-06-2019\n",
       "19           NaN\n",
       "Name: last_review, dtype: object"
      ]
     },
     "execution_count": 49,
     "metadata": {},
     "output_type": "execute_result"
    }
   ],
   "source": [
    "df.last_review.head(20)"
   ]
  },
  {
   "cell_type": "code",
   "execution_count": null,
   "id": "d7aa9c3b-c262-44f1-93fc-dd13c614e510",
   "metadata": {
    "tags": []
   },
   "outputs": [],
   "source": [
    "## We can observ the data formate in of two kind. "
   ]
  },
  {
   "cell_type": "code",
   "execution_count": 50,
   "id": "71d2b539-a7d7-4455-8586-6f984fc15245",
   "metadata": {
    "tags": []
   },
   "outputs": [],
   "source": [
    "df['last_review'] = df['last_review'].str.replace('/', '-')"
   ]
  },
  {
   "cell_type": "code",
   "execution_count": 51,
   "id": "cf173652-4b70-410e-ba40-43802cf2da35",
   "metadata": {
    "tags": []
   },
   "outputs": [],
   "source": [
    "# Type casting from Object to data type\n",
    "df['last_review'] = pd.to_datetime(df['last_review'], errors='coerce', format='%d-%m-%Y')"
   ]
  },
  {
   "cell_type": "code",
   "execution_count": 54,
   "id": "3fa7d2a7-f2ec-47fe-a754-bac2b5f8ede6",
   "metadata": {
    "tags": []
   },
   "outputs": [
    {
     "data": {
      "text/plain": [
       "dtype('<M8[ns]')"
      ]
     },
     "execution_count": 54,
     "metadata": {},
     "output_type": "execute_result"
    }
   ],
   "source": [
    "df.last_review.dtype"
   ]
  },
  {
   "cell_type": "code",
   "execution_count": 63,
   "id": "47294a55-597e-4844-9642-69ff0a2dd814",
   "metadata": {
    "tags": []
   },
   "outputs": [
    {
     "data": {
      "text/plain": [
       "0"
      ]
     },
     "execution_count": 63,
     "metadata": {},
     "output_type": "execute_result"
    }
   ],
   "source": [
    "df.last_review.isnull().sum()"
   ]
  },
  {
   "cell_type": "code",
   "execution_count": 56,
   "id": "4ff3cbd9-3d7c-4bf3-a82b-90d79536397a",
   "metadata": {
    "tags": []
   },
   "outputs": [
    {
     "name": "stdout",
     "output_type": "stream",
     "text": [
      "<class 'pandas.core.series.Series'>\n",
      "Index: 48656 entries, 0 to 48894\n",
      "Series name: last_review\n",
      "Non-Null Count  Dtype         \n",
      "--------------  -----         \n",
      "38736 non-null  datetime64[ns]\n",
      "dtypes: datetime64[ns](1)\n",
      "memory usage: 760.2 KB\n"
     ]
    }
   ],
   "source": [
    "df.last_review.info()"
   ]
  },
  {
   "cell_type": "code",
   "execution_count": 57,
   "id": "0f7a8766-271c-4c60-b24a-3780480bd916",
   "metadata": {
    "tags": []
   },
   "outputs": [
    {
     "data": {
      "text/plain": [
       "0   2018-10-19\n",
       "1   2019-05-21\n",
       "2          NaT\n",
       "3   2019-07-05\n",
       "4   2018-11-19\n",
       "5   2019-06-22\n",
       "6   2017-10-05\n",
       "7   2019-06-24\n",
       "8   2017-07-21\n",
       "9   2019-06-09\n",
       "Name: last_review, dtype: datetime64[ns]"
      ]
     },
     "execution_count": 57,
     "metadata": {},
     "output_type": "execute_result"
    }
   ],
   "source": [
    "df.last_review.head(10)"
   ]
  },
  {
   "cell_type": "markdown",
   "id": "7b27cecd-87ca-4b2f-8d3f-6b9a41304f60",
   "metadata": {
    "tags": []
   },
   "source": [
    "### We can observe that last_review column has 9920 missing date. This could be the effect of covid. The service is temorarly shutdown or the data is not filled. We can use a technique to impute the missing dates in the column with date not avalable winthin that column and we can analyse that data further. "
   ]
  },
  {
   "cell_type": "code",
   "execution_count": null,
   "id": "0a81f4f1-1072-46dd-b68c-e75cc8cda270",
   "metadata": {},
   "outputs": [],
   "source": [
    "# Imputing the null values in the last_review column with the data 12-12-2012. This date is not available in the column. "
   ]
  },
  {
   "cell_type": "code",
   "execution_count": 62,
   "id": "7282cecd-fe17-443f-b854-3ea8ad13ad53",
   "metadata": {
    "tags": []
   },
   "outputs": [],
   "source": [
    "df.last_review = df.last_review.fillna('12-12-1912')"
   ]
  },
  {
   "cell_type": "code",
   "execution_count": 64,
   "id": "ca5d56ed-9e94-4e33-b99b-e3970e1d19dc",
   "metadata": {
    "tags": []
   },
   "outputs": [
    {
     "data": {
      "text/plain": [
       "0"
      ]
     },
     "execution_count": 64,
     "metadata": {},
     "output_type": "execute_result"
    }
   ],
   "source": [
    "df.last_review.isnull().sum()"
   ]
  },
  {
   "cell_type": "code",
   "execution_count": 65,
   "id": "aa0e324b-1784-4925-89e1-2f58ffd8029f",
   "metadata": {
    "tags": []
   },
   "outputs": [
    {
     "data": {
      "text/plain": [
       "0    2018-10-19\n",
       "1    2019-05-21\n",
       "2    2012-12-12\n",
       "3    2019-07-05\n",
       "4    2018-11-19\n",
       "5    2019-06-22\n",
       "6    2017-10-05\n",
       "7    2019-06-24\n",
       "8    2017-07-21\n",
       "9    2019-06-09\n",
       "10   2019-06-22\n",
       "11   2019-06-23\n",
       "12   2019-06-24\n",
       "13   2019-07-05\n",
       "14   2018-10-31\n",
       "15   2019-06-29\n",
       "16   2019-06-28\n",
       "17   2019-07-01\n",
       "18   2019-06-22\n",
       "19   2012-12-12\n",
       "20   2011-12-28\n",
       "21   2019-07-01\n",
       "22   2019-01-01\n",
       "23   2019-07-02\n",
       "24   2019-06-19\n",
       "25   2019-06-23\n",
       "26   2012-12-12\n",
       "27   2017-08-13\n",
       "28   2019-06-15\n",
       "29   2019-04-19\n",
       "30   2019-06-01\n",
       "31   2019-06-14\n",
       "32   2019-06-15\n",
       "33   2019-07-01\n",
       "34   2019-05-12\n",
       "35   2019-06-21\n",
       "36   2012-12-12\n",
       "37   2019-06-22\n",
       "38   2012-12-12\n",
       "39   2019-07-05\n",
       "40   2019-06-21\n",
       "41   2019-05-27\n",
       "42   2018-09-30\n",
       "43   2019-06-16\n",
       "44   2019-06-13\n",
       "45   2019-06-05\n",
       "46   2019-07-01\n",
       "47   2019-05-25\n",
       "48   2017-01-01\n",
       "49   2019-06-17\n",
       "Name: last_review, dtype: datetime64[ns]"
      ]
     },
     "execution_count": 65,
     "metadata": {},
     "output_type": "execute_result"
    }
   ],
   "source": [
    "df.last_review.head(50)"
   ]
  },
  {
   "cell_type": "code",
   "execution_count": null,
   "id": "93278cef-c718-47ba-8114-2769ed964f8f",
   "metadata": {
    "tags": []
   },
   "outputs": [],
   "source": []
  },
  {
   "cell_type": "code",
   "execution_count": 68,
   "id": "e9241066-b354-471b-a23a-9847718adf84",
   "metadata": {
    "tags": []
   },
   "outputs": [
    {
     "name": "stdout",
     "output_type": "stream",
     "text": [
      "<class 'pandas.core.frame.DataFrame'>\n",
      "Index: 48656 entries, 0 to 48894\n",
      "Data columns (total 16 columns):\n",
      " #   Column                          Non-Null Count  Dtype         \n",
      "---  ------                          --------------  -----         \n",
      " 0   id                              48656 non-null  int64         \n",
      " 1   name                            48656 non-null  object        \n",
      " 2   host_id                         48656 non-null  int64         \n",
      " 3   host_name                       48656 non-null  object        \n",
      " 4   neighbourhood_group             48656 non-null  object        \n",
      " 5   neighbourhood                   48656 non-null  object        \n",
      " 6   latitude                        48656 non-null  float64       \n",
      " 7   longitude                       48656 non-null  float64       \n",
      " 8   room_type                       48656 non-null  object        \n",
      " 9   price                           48656 non-null  int64         \n",
      " 10  minimum_nights                  48656 non-null  int64         \n",
      " 11  number_of_reviews               48656 non-null  int64         \n",
      " 12  last_review                     48656 non-null  datetime64[ns]\n",
      " 13  reviews_per_month               48656 non-null  int64         \n",
      " 14  calculated_host_listings_count  48656 non-null  int64         \n",
      " 15  availability_365                48656 non-null  int64         \n",
      "dtypes: datetime64[ns](1), float64(2), int64(8), object(5)\n",
      "memory usage: 6.3+ MB\n"
     ]
    }
   ],
   "source": [
    "df.info()"
   ]
  },
  {
   "cell_type": "code",
   "execution_count": 69,
   "id": "25b7601e-b965-4971-918d-1cc39b9502a7",
   "metadata": {
    "tags": []
   },
   "outputs": [
    {
     "data": {
      "text/plain": [
       "id                                0\n",
       "name                              0\n",
       "host_id                           0\n",
       "host_name                         0\n",
       "neighbourhood_group               0\n",
       "neighbourhood                     0\n",
       "latitude                          0\n",
       "longitude                         0\n",
       "room_type                         0\n",
       "price                             0\n",
       "minimum_nights                    0\n",
       "number_of_reviews                 0\n",
       "last_review                       0\n",
       "reviews_per_month                 0\n",
       "calculated_host_listings_count    0\n",
       "availability_365                  0\n",
       "dtype: int64"
      ]
     },
     "execution_count": 69,
     "metadata": {},
     "output_type": "execute_result"
    }
   ],
   "source": [
    "df.isnull().sum()"
   ]
  },
  {
   "cell_type": "code",
   "execution_count": 72,
   "id": "276442be-69f5-456b-9ce3-b3755ac68700",
   "metadata": {
    "tags": []
   },
   "outputs": [
    {
     "data": {
      "text/plain": [
       "reviews_per_month\n",
       "0       9920\n",
       "2        917\n",
       "5        891\n",
       "100      887\n",
       "3        801\n",
       "        ... \n",
       "953        1\n",
       "974        1\n",
       "606        1\n",
       "825        1\n",
       "1054       1\n",
       "Name: count, Length: 938, dtype: int64"
      ]
     },
     "execution_count": 72,
     "metadata": {},
     "output_type": "execute_result"
    }
   ],
   "source": [
    "df.reviews_per_month.value_counts(dropna=False)"
   ]
  },
  {
   "cell_type": "code",
   "execution_count": null,
   "id": "fce948dd-f897-4516-b516-f9198817d57a",
   "metadata": {
    "tags": []
   },
   "outputs": [],
   "source": [
    "# We can observ that there 9920 0 reviews for the date we have imputed 12-12-2012."
   ]
  },
  {
   "cell_type": "code",
   "execution_count": 73,
   "id": "7823dcfb-ebf7-4e4c-8f0b-58dca94cea57",
   "metadata": {
    "tags": []
   },
   "outputs": [
    {
     "data": {
      "text/plain": [
       "number_of_reviews\n",
       "0      9920\n",
       "1      5223\n",
       "2      3452\n",
       "3      2514\n",
       "4      1987\n",
       "       ... \n",
       "313       1\n",
       "540       1\n",
       "480       1\n",
       "326       1\n",
       "341       1\n",
       "Name: count, Length: 394, dtype: int64"
      ]
     },
     "execution_count": 73,
     "metadata": {},
     "output_type": "execute_result"
    }
   ],
   "source": [
    "df.number_of_reviews.value_counts(dropna=False)"
   ]
  },
  {
   "cell_type": "markdown",
   "id": "efeb2492-94cd-4c93-9b3f-db9ad2ce6d75",
   "metadata": {
    "tags": []
   },
   "source": [
    "### Droping the imputed date 12-12-1912"
   ]
  },
  {
   "cell_type": "code",
   "execution_count": 76,
   "id": "c87c5789-40e2-4fc6-a670-b5afa09f19c8",
   "metadata": {
    "tags": []
   },
   "outputs": [],
   "source": [
    "df = df[df['last_review'] != '12-12-1912']"
   ]
  },
  {
   "cell_type": "code",
   "execution_count": 77,
   "id": "17ef6838-4981-4d06-a3ef-9c2a484c4342",
   "metadata": {
    "tags": []
   },
   "outputs": [
    {
     "data": {
      "text/plain": [
       "(38735, 16)"
      ]
     },
     "execution_count": 77,
     "metadata": {},
     "output_type": "execute_result"
    }
   ],
   "source": [
    "df.shape"
   ]
  },
  {
   "cell_type": "code",
   "execution_count": 78,
   "id": "e1a32640-2ad1-46d4-82ff-54781d9bcdd9",
   "metadata": {
    "tags": []
   },
   "outputs": [
    {
     "data": {
      "text/plain": [
       "reviews_per_month\n",
       "2       917\n",
       "5       891\n",
       "100     887\n",
       "3       801\n",
       "16      662\n",
       "       ... \n",
       "953       1\n",
       "974       1\n",
       "606       1\n",
       "825       1\n",
       "1054      1\n",
       "Name: count, Length: 937, dtype: int64"
      ]
     },
     "execution_count": 78,
     "metadata": {},
     "output_type": "execute_result"
    }
   ],
   "source": [
    "df.reviews_per_month.value_counts(dropna=False)"
   ]
  },
  {
   "cell_type": "code",
   "execution_count": null,
   "id": "bdd9d9ef-ce74-4e6a-8ed3-23c526fc6582",
   "metadata": {},
   "outputs": [],
   "source": []
  },
  {
   "cell_type": "markdown",
   "id": "e917c239-2660-4409-8ae1-81a0db7a5ad9",
   "metadata": {
    "tags": []
   },
   "source": [
    "### reviews_per_month column"
   ]
  },
  {
   "cell_type": "code",
   "execution_count": 81,
   "id": "4f278f8c-d4ed-43db-9d85-b0bf4f45acbd",
   "metadata": {
    "tags": []
   },
   "outputs": [
    {
     "data": {
      "image/png": "[encoded data removed]",
      "text/plain": [
       "<Figure size 1000x600 with 1 Axes>"
      ]
     },
     "metadata": {},
     "output_type": "display_data"
    }
   ],
   "source": [
    "# Distribution of reviews_per_month\n",
    "plt.figure(figsize=(10,6))\n",
    "sns.distplot(df['reviews_per_month'])\n",
    "plt.title('Distribution of reviews_per_month')\n",
    "plt.xlabel('reviews_per_month')\n",
    "plt.ylabel('Y-Axis')\n",
    "plt.show()"
   ]
  },
  {
   "cell_type": "code",
   "execution_count": null,
   "id": "ad8625a3-3102-49aa-9fd5-4223ae3ccb5c",
   "metadata": {},
   "outputs": [],
   "source": []
  },
  {
   "cell_type": "markdown",
   "id": "86c4021a-8a0e-43c1-b595-b71199a6d641",
   "metadata": {},
   "source": [
    "### calculated_host_listings_count"
   ]
  },
  {
   "cell_type": "code",
   "execution_count": 82,
   "id": "d5e59c7c-53b0-464e-982d-4ff884a3f3da",
   "metadata": {
    "tags": []
   },
   "outputs": [
    {
     "data": {
      "text/plain": [
       "calculated_host_listings_count\n",
       "1      25280\n",
       "2       5743\n",
       "3       2494\n",
       "4       1280\n",
       "5        734\n",
       "6        473\n",
       "7        318\n",
       "8        317\n",
       "327      207\n",
       "9        187\n",
       "10       148\n",
       "12       138\n",
       "13       106\n",
       "52        91\n",
       "96        90\n",
       "11        87\n",
       "91        79\n",
       "34        67\n",
       "17        60\n",
       "15        56\n",
       "31        55\n",
       "103       51\n",
       "47        46\n",
       "33        45\n",
       "121       43\n",
       "49        41\n",
       "50        40\n",
       "87        39\n",
       "39        39\n",
       "28        39\n",
       "232       28\n",
       "30        28\n",
       "14        28\n",
       "29        28\n",
       "25        26\n",
       "20        25\n",
       "18        24\n",
       "43        22\n",
       "26        22\n",
       "23        21\n",
       "21        19\n",
       "19        19\n",
       "16        16\n",
       "37        13\n",
       "27        12\n",
       "32        10\n",
       "65         1\n",
       "Name: count, dtype: int64"
      ]
     },
     "execution_count": 82,
     "metadata": {},
     "output_type": "execute_result"
    }
   ],
   "source": [
    "df.calculated_host_listings_count.value_counts(dropna=False)"
   ]
  },
  {
   "cell_type": "code",
   "execution_count": 84,
   "id": "88a69c82-d0f5-48b9-bf3f-fb58034c8b38",
   "metadata": {
    "tags": []
   },
   "outputs": [
    {
     "data": {
      "text/html": [
       "<div>\n",
       "<style scoped>\n",
       "    .dataframe tbody tr th:only-of-type {\n",
       "        vertical-align: middle;\n",
       "    }\n",
       "\n",
       "    .dataframe tbody tr th {\n",
       "        vertical-align: top;\n",
       "    }\n",
       "\n",
       "    .dataframe thead th {\n",
       "        text-align: right;\n",
       "    }\n",
       "</style>\n",
       "<table border=\"1\" class=\"dataframe\">\n",
       "  <thead>\n",
       "    <tr style=\"text-align: right;\">\n",
       "      <th></th>\n",
       "      <th>id</th>\n",
       "      <th>name</th>\n",
       "      <th>host_id</th>\n",
       "      <th>host_name</th>\n",
       "      <th>neighbourhood_group</th>\n",
       "      <th>neighbourhood</th>\n",
       "      <th>latitude</th>\n",
       "      <th>longitude</th>\n",
       "      <th>room_type</th>\n",
       "      <th>price</th>\n",
       "      <th>minimum_nights</th>\n",
       "      <th>number_of_reviews</th>\n",
       "      <th>last_review</th>\n",
       "      <th>reviews_per_month</th>\n",
       "      <th>calculated_host_listings_count</th>\n",
       "      <th>availability_365</th>\n",
       "    </tr>\n",
       "  </thead>\n",
       "  <tbody>\n",
       "    <tr>\n",
       "      <th>0</th>\n",
       "      <td>2539</td>\n",
       "      <td>Clean &amp; quiet apt home by the park</td>\n",
       "      <td>2787</td>\n",
       "      <td>John</td>\n",
       "      <td>Brooklyn</td>\n",
       "      <td>Kensington</td>\n",
       "      <td>40.64749</td>\n",
       "      <td>-73.97237</td>\n",
       "      <td>Private room</td>\n",
       "      <td>149</td>\n",
       "      <td>1</td>\n",
       "      <td>9</td>\n",
       "      <td>2018-10-19</td>\n",
       "      <td>21</td>\n",
       "      <td>6</td>\n",
       "      <td>365</td>\n",
       "    </tr>\n",
       "    <tr>\n",
       "      <th>1</th>\n",
       "      <td>2595</td>\n",
       "      <td>Skylit Midtown Castle</td>\n",
       "      <td>2845</td>\n",
       "      <td>Jennifer</td>\n",
       "      <td>Manhattan</td>\n",
       "      <td>Midtown</td>\n",
       "      <td>40.75362</td>\n",
       "      <td>-73.98377</td>\n",
       "      <td>Entire home/apt</td>\n",
       "      <td>225</td>\n",
       "      <td>1</td>\n",
       "      <td>45</td>\n",
       "      <td>2019-05-21</td>\n",
       "      <td>38</td>\n",
       "      <td>2</td>\n",
       "      <td>355</td>\n",
       "    </tr>\n",
       "    <tr>\n",
       "      <th>3</th>\n",
       "      <td>3831</td>\n",
       "      <td>Cozy Entire Floor of Brownstone</td>\n",
       "      <td>4869</td>\n",
       "      <td>LisaRoxanne</td>\n",
       "      <td>Brooklyn</td>\n",
       "      <td>Clinton Hill</td>\n",
       "      <td>40.68514</td>\n",
       "      <td>-73.95976</td>\n",
       "      <td>Entire home/apt</td>\n",
       "      <td>89</td>\n",
       "      <td>1</td>\n",
       "      <td>270</td>\n",
       "      <td>2019-07-05</td>\n",
       "      <td>464</td>\n",
       "      <td>1</td>\n",
       "      <td>194</td>\n",
       "    </tr>\n",
       "    <tr>\n",
       "      <th>4</th>\n",
       "      <td>5022</td>\n",
       "      <td>Entire Apt: Spacious Studio/Loft by central park</td>\n",
       "      <td>7192</td>\n",
       "      <td>Laura</td>\n",
       "      <td>Manhattan</td>\n",
       "      <td>East Harlem</td>\n",
       "      <td>40.79851</td>\n",
       "      <td>-73.94399</td>\n",
       "      <td>Entire home/apt</td>\n",
       "      <td>80</td>\n",
       "      <td>10</td>\n",
       "      <td>9</td>\n",
       "      <td>2018-11-19</td>\n",
       "      <td>10</td>\n",
       "      <td>1</td>\n",
       "      <td>0</td>\n",
       "    </tr>\n",
       "    <tr>\n",
       "      <th>5</th>\n",
       "      <td>5099</td>\n",
       "      <td>Large Cozy 1 BR Apartment In Midtown East</td>\n",
       "      <td>7322</td>\n",
       "      <td>Chris</td>\n",
       "      <td>Manhattan</td>\n",
       "      <td>Murray Hill</td>\n",
       "      <td>40.74767</td>\n",
       "      <td>-73.97500</td>\n",
       "      <td>Entire home/apt</td>\n",
       "      <td>200</td>\n",
       "      <td>3</td>\n",
       "      <td>74</td>\n",
       "      <td>2019-06-22</td>\n",
       "      <td>59</td>\n",
       "      <td>1</td>\n",
       "      <td>129</td>\n",
       "    </tr>\n",
       "  </tbody>\n",
       "</table>\n",
       "</div>"
      ],
      "text/plain": [
       "     id                                              name  host_id  \\\n",
       "0  2539                Clean & quiet apt home by the park     2787   \n",
       "1  2595                             Skylit Midtown Castle     2845   \n",
       "3  3831                   Cozy Entire Floor of Brownstone     4869   \n",
       "4  5022  Entire Apt: Spacious Studio/Loft by central park     7192   \n",
       "5  5099         Large Cozy 1 BR Apartment In Midtown East     7322   \n",
       "\n",
       "     host_name neighbourhood_group neighbourhood  latitude  longitude  \\\n",
       "0         John            Brooklyn    Kensington  40.64749  -73.97237   \n",
       "1     Jennifer           Manhattan       Midtown  40.75362  -73.98377   \n",
       "3  LisaRoxanne            Brooklyn  Clinton Hill  40.68514  -73.95976   \n",
       "4        Laura           Manhattan   East Harlem  40.79851  -73.94399   \n",
       "5        Chris           Manhattan   Murray Hill  40.74767  -73.97500   \n",
       "\n",
       "         room_type  price  minimum_nights  number_of_reviews last_review  \\\n",
       "0     Private room    149               1                  9  2018-10-19   \n",
       "1  Entire home/apt    225               1                 45  2019-05-21   \n",
       "3  Entire home/apt     89               1                270  2019-07-05   \n",
       "4  Entire home/apt     80              10                  9  2018-11-19   \n",
       "5  Entire home/apt    200               3                 74  2019-06-22   \n",
       "\n",
       "   reviews_per_month  calculated_host_listings_count  availability_365  \n",
       "0                 21                               6               365  \n",
       "1                 38                               2               355  \n",
       "3                464                               1               194  \n",
       "4                 10                               1                 0  \n",
       "5                 59                               1               129  "
      ]
     },
     "execution_count": 84,
     "metadata": {},
     "output_type": "execute_result"
    }
   ],
   "source": [
    "df.head()"
   ]
  },
  {
   "cell_type": "code",
   "execution_count": 85,
   "id": "23e41399-633b-444e-9f0b-928103f09d32",
   "metadata": {
    "tags": []
   },
   "outputs": [
    {
     "data": {
      "image/png": "[encoded data removed]",
      "text/plain": [
       "<Figure size 1000x600 with 1 Axes>"
      ]
     },
     "metadata": {},
     "output_type": "display_data"
    }
   ],
   "source": [
    "# Distribution of reviews_per_month\n",
    "plt.figure(figsize=(10,6))\n",
    "sns.distplot(df['calculated_host_listings_count'])\n",
    "plt.title('Distribution of calculated_host_listings_count')\n",
    "plt.xlabel('calculated_host_listings_count')\n",
    "plt.ylabel('Y-Axis')\n",
    "plt.show()"
   ]
  },
  {
   "cell_type": "code",
   "execution_count": 86,
   "id": "8a5d917d-1505-4440-b9d5-13ecf18e00d0",
   "metadata": {
    "tags": []
   },
   "outputs": [
    {
     "data": {
      "text/plain": [
       "0.25      1.0\n",
       "0.50      1.0\n",
       "0.75      2.0\n",
       "1.00    327.0\n",
       "Name: calculated_host_listings_count, dtype: float64"
      ]
     },
     "execution_count": 86,
     "metadata": {},
     "output_type": "execute_result"
    }
   ],
   "source": [
    "df['calculated_host_listings_count'].quantile([0.25,0.50,0.75,1])"
   ]
  },
  {
   "cell_type": "code",
   "execution_count": null,
   "id": "4da1baee-59f8-4c01-80a3-66e4a377d050",
   "metadata": {},
   "outputs": [],
   "source": []
  },
  {
   "cell_type": "markdown",
   "id": "e5225286-54e9-46e2-9d25-080924253a6b",
   "metadata": {
    "tags": []
   },
   "source": [
    "### availability_365 column"
   ]
  },
  {
   "cell_type": "code",
   "execution_count": 90,
   "id": "89d8b530-8bfd-4c95-9921-a1f1220bcc40",
   "metadata": {
    "tags": []
   },
   "outputs": [
    {
     "data": {
      "text/plain": [
       "availability_365\n",
       "0      12668\n",
       "365      824\n",
       "1        367\n",
       "364      295\n",
       "5        291\n",
       "       ...  \n",
       "214       23\n",
       "183       23\n",
       "196       21\n",
       "181       20\n",
       "202       19\n",
       "Name: count, Length: 366, dtype: int64"
      ]
     },
     "execution_count": 90,
     "metadata": {},
     "output_type": "execute_result"
    }
   ],
   "source": [
    "df.availability_365.value_counts(dropna=False)"
   ]
  },
  {
   "cell_type": "code",
   "execution_count": 91,
   "id": "135932e3-1e0f-4fb0-96c6-a251eb966329",
   "metadata": {
    "tags": []
   },
   "outputs": [
    {
     "data": {
      "text/plain": [
       "room_type\n",
       "Entire home/apt    366\n",
       "Private room       366\n",
       "Shared room        217\n",
       "Name: availability_365, dtype: int64"
      ]
     },
     "execution_count": 91,
     "metadata": {},
     "output_type": "execute_result"
    }
   ],
   "source": [
    "df.groupby('room_type')['availability_365'].nunique()"
   ]
  },
  {
   "cell_type": "code",
   "execution_count": null,
   "id": "986ac274-2475-44a7-aa12-677ac69b0d86",
   "metadata": {},
   "outputs": [],
   "source": []
  },
  {
   "cell_type": "markdown",
   "id": "65ce9595-6a59-4df5-9a78-913a5fc9e6db",
   "metadata": {
    "tags": []
   },
   "source": [
    "### latitude column"
   ]
  },
  {
   "cell_type": "code",
   "execution_count": 93,
   "id": "eda48fd3-61c3-4848-9dba-1c176eef8e9a",
   "metadata": {
    "tags": []
   },
   "outputs": [
    {
     "data": {
      "text/plain": [
       "latitude\n",
       "40.71813    15\n",
       "40.69414    11\n",
       "40.71353    11\n",
       "40.68634    11\n",
       "40.71947    10\n",
       "            ..\n",
       "40.80534     1\n",
       "40.80191     1\n",
       "40.88444     1\n",
       "40.80933     1\n",
       "40.80787     1\n",
       "Name: count, Length: 17422, dtype: int64"
      ]
     },
     "execution_count": 93,
     "metadata": {},
     "output_type": "execute_result"
    }
   ],
   "source": [
    "df.latitude.value_counts()"
   ]
  },
  {
   "cell_type": "code",
   "execution_count": null,
   "id": "63f30b06-d88a-4043-9515-f38a95cf6ea4",
   "metadata": {},
   "outputs": [],
   "source": []
  },
  {
   "cell_type": "code",
   "execution_count": 94,
   "id": "0684ced3-5073-40cb-93ee-084d5d8f010c",
   "metadata": {
    "tags": []
   },
   "outputs": [],
   "source": [
    "### longitude column"
   ]
  },
  {
   "cell_type": "code",
   "execution_count": 95,
   "id": "39eafc67-5a6b-4d81-8747-250375e97f44",
   "metadata": {
    "tags": []
   },
   "outputs": [
    {
     "data": {
      "text/plain": [
       "longitude\n",
       "-73.95427    16\n",
       "-73.95677    16\n",
       "-73.95405    15\n",
       "-73.95742    14\n",
       "-73.95551    14\n",
       "             ..\n",
       "-73.93130     1\n",
       "-73.86575     1\n",
       "-74.00657     1\n",
       "-73.85636     1\n",
       "-74.14275     1\n",
       "Name: count, Length: 13630, dtype: int64"
      ]
     },
     "execution_count": 95,
     "metadata": {},
     "output_type": "execute_result"
    }
   ],
   "source": [
    "df.longitude.value_counts()"
   ]
  },
  {
   "cell_type": "code",
   "execution_count": null,
   "id": "9ca6805e-b646-4466-b70a-a3ebd69854ee",
   "metadata": {},
   "outputs": [],
   "source": []
  },
  {
   "cell_type": "markdown",
   "id": "03b668c8-f737-4d84-81a4-03854bcfc249",
   "metadata": {
    "tags": []
   },
   "source": [
    "### Exporting the cleaned data set to local"
   ]
  },
  {
   "cell_type": "code",
   "execution_count": null,
   "id": "4ead241b-bfea-4dc2-91e9-843f2f511a0c",
   "metadata": {
    "tags": []
   },
   "outputs": [],
   "source": [
    "df= df.to_csv(\"E:\\#Upgrad\\#Data Analytics Specialis\\Data Storytelling\\Air BNB Case Study\\AirBNB_Cleaned.csv\", index=False)                 "
   ]
  }
 ],
 "metadata": {
  "kernelspec": {
   "display_name": "Python 3 (ipykernel)",
   "language": "python",
   "name": "python3"
  },
  "language_info": {
   "codemirror_mode": {
    "name": "ipython",
    "version": 3
   },
   "file_extension": ".py",
   "mimetype": "text/x-python",
   "name": "python",
   "nbconvert_exporter": "python",
   "pygments_lexer": "ipython3",
   "version": "3.11.5"
  }
 },
 "nbformat": 4,
 "nbformat_minor": 5
}
